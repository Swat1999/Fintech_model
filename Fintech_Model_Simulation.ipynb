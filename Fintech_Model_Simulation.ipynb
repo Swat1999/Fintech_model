{
 "cells": [
  {
   "cell_type": "markdown",
   "id": "e201da92",
   "metadata": {},
   "source": [
    "# Fintech Model for company stocks and where to invest"
   ]
  },
  {
   "cell_type": "code",
   "execution_count": 1,
   "id": "efd59e1f",
   "metadata": {},
   "outputs": [],
   "source": [
    "import pandas as pd\n",
    "import numpy as np"
   ]
  },
  {
   "cell_type": "code",
   "execution_count": 2,
   "id": "bc3f758a",
   "metadata": {},
   "outputs": [],
   "source": [
    "amazon = pd.read_csv(\"Amazon Stock One Year Historical Data.csv\")\n",
    "apple = pd.read_csv(\"Apple 1 Year Historical Data.csv\")\n",
    "microsoft = pd.read_csv(\"Microsoft stocks 1 year data.csv\")"
   ]
  },
  {
   "cell_type": "code",
   "execution_count": 3,
   "id": "d2456df1",
   "metadata": {},
   "outputs": [],
   "source": [
    "amazon['Company'] = 'Amazon'\n",
    "apple['Company'] = 'Apple'\n",
    "microsoft['Company'] = 'Microsoft'"
   ]
  },
  {
   "cell_type": "code",
   "execution_count": 4,
   "id": "50a703cc",
   "metadata": {},
   "outputs": [],
   "source": [
    "for df in [amazon, apple, microsoft]:\n",
    "    df.columns = df.columns.str.strip().str.lower()\n",
    "    df['date'] = pd.to_datetime(df['date'])\n",
    "    df.sort_values('date', inplace=True)"
   ]
  },
  {
   "cell_type": "markdown",
   "id": "42dd59e8",
   "metadata": {},
   "source": [
    "### Combine all Datasets "
   ]
  },
  {
   "cell_type": "code",
   "execution_count": 5,
   "id": "619788d1",
   "metadata": {},
   "outputs": [],
   "source": [
    "combined = pd.concat([amazon, apple, microsoft], ignore_index=True)"
   ]
  },
  {
   "cell_type": "markdown",
   "id": "13a33a9f",
   "metadata": {},
   "source": [
    "## Daily Return"
   ]
  },
  {
   "cell_type": "code",
   "execution_count": 6,
   "id": "85a3a8f7",
   "metadata": {},
   "outputs": [],
   "source": [
    "combined['daily_return'] = combined.groupby('company')['close'].pct_change()"
   ]
  },
  {
   "cell_type": "markdown",
   "id": "8c01d375",
   "metadata": {},
   "source": [
    "## 20 - 50 Days moving Average"
   ]
  },
  {
   "cell_type": "code",
   "execution_count": 7,
   "id": "d76cb014",
   "metadata": {},
   "outputs": [],
   "source": [
    "combined['ma_20'] = combined.groupby('company')['close'].transform(lambda x: x.rolling(window=20).mean())\n",
    "combined['ma_50'] = combined.groupby('company')['close'].transform(lambda x: x.rolling(window=50).mean())"
   ]
  },
  {
   "cell_type": "markdown",
   "id": "629cdc4f",
   "metadata": {},
   "source": [
    "## Rolling Volatality"
   ]
  },
  {
   "cell_type": "code",
   "execution_count": 8,
   "id": "fb2aa631",
   "metadata": {},
   "outputs": [],
   "source": [
    "combined['volatility'] = combined.groupby('company')['daily_return'].transform(lambda x: x.rolling(window=20).std())"
   ]
  },
  {
   "cell_type": "markdown",
   "id": "11d91e3a",
   "metadata": {},
   "source": [
    "## Normalize closing price"
   ]
  },
  {
   "cell_type": "code",
   "execution_count": 9,
   "id": "e392c23a",
   "metadata": {},
   "outputs": [],
   "source": [
    "combined['normalized_close'] = combined.groupby('company')['close'].transform(lambda x: x / x.iloc[0])"
   ]
  },
  {
   "cell_type": "markdown",
   "id": "0fb8c95b",
   "metadata": {},
   "source": [
    "### Save dataset"
   ]
  },
  {
   "cell_type": "code",
   "execution_count": 10,
   "id": "1645cbbb",
   "metadata": {},
   "outputs": [],
   "source": [
    "combined.to_csv(\"Cleaned_Stock_Data.csv\", index=False)"
   ]
  },
  {
   "cell_type": "markdown",
   "id": "96b13650",
   "metadata": {},
   "source": [
    "# Investment Simulation model\n",
    "\n",
    "This is where the CAGR, Adjusted CAGR and Projected Value is being calculated"
   ]
  },
  {
   "cell_type": "code",
   "execution_count": 11,
   "id": "7dc9a984",
   "metadata": {},
   "outputs": [],
   "source": [
    "def simulate_investment(df, investment_amount, duration_days, risk_level):\n",
    "    risk_adjustment = {'Low': 0.9, 'Medium': 1.0, 'High': 1.1}\n",
    "    results = []\n",
    "\n",
    "    for company in df['company'].unique():\n",
    "        company_df = df[df['company'] == company].copy()\n",
    "        company_df = company_df.sort_values('date')\n",
    "\n",
    "        start_price = company_df['close'].iloc[0]\n",
    "        end_price = company_df['close'].iloc[min(duration_days, len(company_df)-1)]\n",
    "\n",
    "        cagr = ((end_price / start_price) ** (365 / duration_days)) - 1\n",
    "        adjusted_cagr = cagr * risk_adjustment[risk_level]\n",
    "        projected_value = investment_amount * ((1 + adjusted_cagr) ** (duration_days / 365))\n",
    "\n",
    "        results.append({\n",
    "            'Company': company,\n",
    "            'Start Price': start_price,\n",
    "            'End Price': end_price,\n",
    "            'CAGR': round(cagr, 4),\n",
    "            'Adjusted CAGR': round(adjusted_cagr, 4),\n",
    "            'Projected Value': round(projected_value, 2)\n",
    "        })\n",
    "\n",
    "    return pd.DataFrame(results)"
   ]
  },
  {
   "cell_type": "markdown",
   "id": "8b43f87a",
   "metadata": {},
   "source": [
    "#### Small example to show working"
   ]
  },
  {
   "cell_type": "code",
   "execution_count": 12,
   "id": "cee39afb",
   "metadata": {},
   "outputs": [],
   "source": [
    "simulation = simulate_investment(combined, investment_amount=100000, duration_days=180, risk_level='Medium')\n",
    "simulation.to_csv(\"Investment_Simulation.csv\", index=False)"
   ]
  },
  {
   "cell_type": "code",
   "execution_count": 13,
   "id": "6fd90235",
   "metadata": {},
   "outputs": [
    {
     "data": {
      "text/html": [
       "<div>\n",
       "<style scoped>\n",
       "    .dataframe tbody tr th:only-of-type {\n",
       "        vertical-align: middle;\n",
       "    }\n",
       "\n",
       "    .dataframe tbody tr th {\n",
       "        vertical-align: top;\n",
       "    }\n",
       "\n",
       "    .dataframe thead th {\n",
       "        text-align: right;\n",
       "    }\n",
       "</style>\n",
       "<table border=\"1\" class=\"dataframe\">\n",
       "  <thead>\n",
       "    <tr style=\"text-align: right;\">\n",
       "      <th></th>\n",
       "      <th>Company</th>\n",
       "      <th>Start Price</th>\n",
       "      <th>End Price</th>\n",
       "      <th>CAGR</th>\n",
       "      <th>Adjusted CAGR</th>\n",
       "      <th>Projected Value</th>\n",
       "    </tr>\n",
       "  </thead>\n",
       "  <tbody>\n",
       "    <tr>\n",
       "      <th>0</th>\n",
       "      <td>Amazon</td>\n",
       "      <td>161.02</td>\n",
       "      <td>186.54</td>\n",
       "      <td>0.3476</td>\n",
       "      <td>0.3476</td>\n",
       "      <td>115848.96</td>\n",
       "    </tr>\n",
       "    <tr>\n",
       "      <th>1</th>\n",
       "      <td>Apple</td>\n",
       "      <td>209.27</td>\n",
       "      <td>208.37</td>\n",
       "      <td>-0.0087</td>\n",
       "      <td>-0.0087</td>\n",
       "      <td>99569.93</td>\n",
       "    </tr>\n",
       "    <tr>\n",
       "      <th>2</th>\n",
       "      <td>Microsoft</td>\n",
       "      <td>395.15</td>\n",
       "      <td>387.30</td>\n",
       "      <td>-0.0399</td>\n",
       "      <td>-0.0399</td>\n",
       "      <td>98013.41</td>\n",
       "    </tr>\n",
       "  </tbody>\n",
       "</table>\n",
       "</div>"
      ],
      "text/plain": [
       "     Company  Start Price  End Price    CAGR  Adjusted CAGR  Projected Value\n",
       "0     Amazon       161.02     186.54  0.3476         0.3476        115848.96\n",
       "1      Apple       209.27     208.37 -0.0087        -0.0087         99569.93\n",
       "2  Microsoft       395.15     387.30 -0.0399        -0.0399         98013.41"
      ]
     },
     "execution_count": 13,
     "metadata": {},
     "output_type": "execute_result"
    }
   ],
   "source": [
    "simulation"
   ]
  },
  {
   "cell_type": "code",
   "execution_count": null,
   "id": "0356b926",
   "metadata": {},
   "outputs": [],
   "source": []
  }
 ],
 "metadata": {
  "kernelspec": {
   "display_name": "Python 3",
   "language": "python",
   "name": "python3"
  },
  "language_info": {
   "codemirror_mode": {
    "name": "ipython",
    "version": 3
   },
   "file_extension": ".py",
   "mimetype": "text/x-python",
   "name": "python",
   "nbconvert_exporter": "python",
   "pygments_lexer": "ipython3",
   "version": "3.8.8"
  }
 },
 "nbformat": 4,
 "nbformat_minor": 5
}
